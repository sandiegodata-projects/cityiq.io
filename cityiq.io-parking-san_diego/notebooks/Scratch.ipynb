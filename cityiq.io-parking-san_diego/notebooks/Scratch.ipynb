{
 "cells": [
  {
   "cell_type": "code",
   "execution_count": 2,
   "metadata": {},
   "outputs": [],
   "source": [
    "import seaborn as sns\n",
    "import metapack as mp\n",
    "import pandas as pd\n",
    "import numpy as np\n",
    "import matplotlib.pyplot as plt\n",
    "from IPython.display import display \n",
    "\n",
    "%matplotlib inline\n",
    "sns.set_context('notebook')\n",
    "mp.jupyter.init()\n"
   ]
  },
  {
   "cell_type": "code",
   "execution_count": 3,
   "metadata": {},
   "outputs": [
    {
     "data": {
      "text/html": [
       "<p><code>sandiego.gov-cityiq_parking-1</code> Last Update: 2019-02-13T01:50:32</p>\n",
       "<p>__</p>\n",
       "<h2>Contacts</h2>\n",
       "<ul>\n",
       "<li><strong>Wrangler</strong> <a href=\"mailto:eric@civicknowledge.com\">Eric Busboom</a>, <a href=\"http://civicknowledge.com\">Civic Knowledge</a></li>\n",
       "</ul>"
      ],
      "text/plain": [
       "<metapack.doc.MetapackDoc at 0x12390e630>"
      ]
     },
     "execution_count": 3,
     "metadata": {},
     "output_type": "execute_result"
    }
   ],
   "source": [
    "pkg = mp.jupyter.open_package()\n",
    "#pkg = mp.jupyter.open_source_package()\n",
    "pkg"
   ]
  },
  {
   "cell_type": "code",
   "execution_count": 4,
   "metadata": {},
   "outputs": [],
   "source": [
    "import datetime\n",
    "import statsmodels.formula.api as sm\n",
    "from cityiq import Config, CityIq\n",
    "from cityiq.scrape import EventScraper\n",
    "tz = datetime.datetime.now(datetime.timezone.utc).astimezone().tzinfo\n",
    "from pathlib import Path\n",
    "\n",
    "config = Config() # Assumes ~/.city-iq.yaml\n",
    "\n",
    "c = CityIq(config) # Maybe will need this later\n",
    "\n",
    "# Scrape events from Sept 2018\n",
    "start_time = datetime.datetime(2018, 9, 1, 0, 0, tzinfo = tz)\n",
    "\n",
    "s = EventScraper(config, start_time,  ['PKIN', 'PKOUT'])\n"
   ]
  },
  {
   "cell_type": "code",
   "execution_count": 5,
   "metadata": {},
   "outputs": [
    {
     "data": {
      "text/html": [
       "<h1>San Diego Parking Time Series</h1>\n",
       "<p><code>sandiego.gov-cityiq_parking-1</code> Last Update: 2019-02-16T04:36:54</p>\n",
       "<p><em>15 minute interval parking utilization for 1600 parking zones in San Diego city.</em></p>\n",
       "<p>This datasets is compiled from parking events scraped from the San Diego CityIQ\n",
       "smart streetmap system, via the <a href=\"https://pypi.org/project/cityiq/\">cityiq Python\n",
       "package</a>. The dataset is compiled from PKIN\n",
       "and PKOUT events between the dates of Sept 2018 and Feb 2019 for the whole SaN\n",
       "Diego system.</p>\n",
       "<p>The dataset is heavily processed to eliminate duplicate events because there\n",
       "are many spurious events, but an excess of PKIN events. When computing the\n",
       "number of cars parked in all parking zones, the excess of PKIN events results\n",
       "in about 60,000 extra cars per month. These issues are explored in an <a href=\"https://github.com/sandiegodata/cityiq/blob/master/notebooks/CityIQ%20\n",
       "Leaking%20PKIN%20Events.ipynb\">Jupyter\n",
       "Notebook</a></p>\n",
       "<h2>Processing</h2>\n",
       "<p>These data were produced with these programs: </p>\n",
       "<pre><code>    $ pip install cityiq\n",
       "    $ ciq_config -w\n",
       "    $ # Edit .cityiq-config.yaml with client-id and secret\n",
       "    # Scrape PKIN and PKOUT from Sept 2018 to present\n",
       "    $ $ ciq_events -s -e PKIN -e PKOUT -t 20190901\n",
       "    # Split event dump in to event-location csv files\n",
       "    $ ciq_events -S\n",
       "    # Deduplicate and normalize\n",
       "    $ ciq_events -n\n",
       "</code></pre>\n",
       "\n",
       "<p>The last step, deduplication and normalization, involves these steps: </p>\n",
       "<ul>\n",
       "<li>Group events by event type, location and 1 second period and select only 1\n",
       "  record from each group </li>\n",
       "<li>Collect runs of a events of one type and select only\n",
       "  the first record of the run, up to a run of 4 minutes long </li>\n",
       "<li>For each location, compute the cumulative sum of in and outs ( calculating\n",
       "  the number of cars in the zone ) then create a rolling 2-day average.\n",
       "  Subtract off the average.</li>\n",
       "</ul>\n",
       "<p>The third step is demonstrated in this image:</p>\n",
       "<p><img alt=\"rollnorm\" src=\"http://ds.civicknowledge.org.s3.amazonaws.com/sandiego.gov/cityiq/rolling-renorm.png\" title=\"Rolling Normlization\" /></p>\n",
       "<p>The blue line is the original utilization for a single location, showing the\n",
       "larger number of PKIN events than PKOUT events. The red line is the 2-day\n",
       "rolling average, and the green line is after subtracting the 2-dat rolling\n",
       "average.</p>\n",
       "<p>In the final dataset, the data for the blue line is in the  <code>cs</code> column, which is created from the cumulative sum of the <code>delta</code> column. The green line is the data in the <code>cs_norm</code> column, which is differentiated to create the <code>delta_norm</code>column. </p>\n",
       "<p>For most purpuses you should use <code>cs_norm</code> and <code>delta_norm</code>.</p>\n",
       "<h2>Contacts</h2>\n",
       "<ul>\n",
       "<li><strong>Wrangler</strong> <a href=\"mailto:eric@civicknowledge.com\">Eric Busboom</a>, <a href=\"http://civicknowledge.com\">Civic Knowledge</a></li>\n",
       "</ul>\n",
       "<h2>References</h2>\n",
       "<ul>\n",
       "<li><strong><a href=\"http://ds.civicknowledge.org/sandiego.gov/cityiq/cityiq-PKIN_PKOUT-20180901-20190201.csv.zip\">parking_events</a></strong>. Parking events</li>\n",
       "</ul>"
      ],
      "text/plain": [
       "<metapack.doc.MetapackDoc at 0x123cf8ac8>"
      ]
     },
     "execution_count": 5,
     "metadata": {},
     "output_type": "execute_result"
    }
   ],
   "source": [
    "import metapack as mp\n",
    "pkg = mp.open_package('http://library.metatab.org/sandiego.gov-cityiq_parking-1.csv')\n",
    "pkg"
   ]
  },
  {
   "cell_type": "code",
   "execution_count": 7,
   "metadata": {},
   "outputs": [
    {
     "data": {
      "text/plain": [
       "NoneType"
      ]
     },
     "execution_count": 7,
     "metadata": {},
     "output_type": "execute_result"
    }
   ],
   "source": [
    "r = pkg.reference('parking_events')\n"
   ]
  },
  {
   "cell_type": "code",
   "execution_count": 9,
   "metadata": {},
   "outputs": [
    {
     "data": {
      "text/plain": [
       "[<Resource: sandiego.gov-cityiq_parking-1.csv 27:1 root.datafile http://ds.civicknowledge.org/sandiego.gov/cityiq/cityiq-PKIN_PKOUT-20180901-20190201.csv.zip ['parking_events', 'Parking events', '']>]"
      ]
     },
     "execution_count": 9,
     "metadata": {},
     "output_type": "execute_result"
    }
   ],
   "source": [
    "pkg.references()"
   ]
  },
  {
   "cell_type": "code",
   "execution_count": null,
   "metadata": {},
   "outputs": [],
   "source": []
  }
 ],
 "metadata": {
  "kernelspec": {
   "display_name": "Python 3",
   "language": "python",
   "name": "python3"
  },
  "language_info": {
   "codemirror_mode": {
    "name": "ipython",
    "version": 3
   },
   "file_extension": ".py",
   "mimetype": "text/x-python",
   "name": "python",
   "nbconvert_exporter": "python",
   "pygments_lexer": "ipython3",
   "version": "3.6.0"
  }
 },
 "nbformat": 4,
 "nbformat_minor": 2
}
