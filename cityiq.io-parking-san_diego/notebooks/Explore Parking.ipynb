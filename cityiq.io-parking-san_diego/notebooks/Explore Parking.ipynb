{
 "cells": [
  {
   "cell_type": "code",
   "execution_count": 1,
   "metadata": {},
   "outputs": [],
   "source": [
    "import seaborn as sns\n",
    "import metapack as mp\n",
    "import pandas as pd\n",
    "import numpy as np\n",
    "import matplotlib.pyplot as plt\n",
    "from IPython.display import display \n",
    "\n",
    "%matplotlib inline\n",
    "sns.set_context('notebook')\n",
    "mp.jupyter.init()\n"
   ]
  },
  {
   "cell_type": "code",
   "execution_count": 22,
   "metadata": {},
   "outputs": [
    {
     "data": {
      "text/html": [
       "<h1>San Diego Parking Time Series</h1>\n",
       "<p><code>sandiego.gov-cityiq_parking-2</code> Last Update: 2019-02-18T01:53:21</p>\n",
       "<p><em>15 minute interval parking utilization for 1600 parking zones in San Diego city.</em></p>\n",
       "<p>This datasets is compiled from parking events scraped from the San Diego CityIQ\n",
       "smart streetmap system, via the <a href=\"https://pypi.org/project/cityiq/\">cityiq Python\n",
       "package</a>. The dataset is compiled from PKIN\n",
       "and PKOUT events between the dates of Sept 2018 and Feb 2019 for the whole SaN\n",
       "Diego system.</p>\n",
       "<p>The dataset is heavily processed to eliminate duplicate events because there\n",
       "are many spurious events, but an excess of PKIN events. When computing the\n",
       "number of cars parked in all parking zones, the excess of PKIN events results\n",
       "in about 60,000 extra cars per month. These issues are explored in an <a href=\"https://github.com/sandiegodata/cityiq/blob/master/notebooks/CityIQ%20\n",
       "Leaking%20PKIN%20Events.ipynb\">Jupyter\n",
       "Notebook</a></p>\n",
       "<p>The records in this dataset referece parking zones. More information, including geographic positions, are avialble in the <a href=\"https://data.sandiegodata.org/dataset/sandiego-gov-cityiq_objects\">CityIQ Objects dataset.</a></p>\n",
       "<h2>Processing</h2>\n",
       "<p>These data were produced with these programs: </p>\n",
       "<pre><code>$ pip install cityiq\n",
       "$ ciq_config -w\n",
       "$ # Edit .cityiq-config.yaml with client-id and secret\n",
       "# Scrape PKIN and PKOUT from Sept 2018 to present\n",
       "$ $ ciq_events -s -e PKIN -e PKOUT -t 20190901\n",
       "# Split event dump in to event-location csv files\n",
       "$ ciq_events -S\n",
       "# Deduplicate and normalize\n",
       "$ ciq_events -n\n",
       "</code></pre>\n",
       "<p>The last step, deduplication and normalization, involves these steps: </p>\n",
       "<ul>\n",
       "<li>Group events by event type, location and 1 second period and select only 1\n",
       "  record from each group </li>\n",
       "<li>Collect runs of a events of one type and select only\n",
       "  the first record of the run, up to a run of 4 minutes long </li>\n",
       "<li>For each location, compute the cumulative sum of in and outs ( calculating\n",
       "  the number of cars in the zone ) then create a rolling 2-day average.\n",
       "  Subtract off the average.</li>\n",
       "</ul>\n",
       "<p>The third step is demonstrated in this image:</p>\n",
       "<p><img alt=\"rollnorm\" src=\"http://ds.civicknowledge.org.s3.amazonaws.com/sandiego.gov/cityiq/rolling-renorm.png\" title=\"Rolling Normlization\" /></p>\n",
       "<p>The blue line is the original utilization for a single location, showing the\n",
       "larger number of PKIN events than PKOUT events. The red line is the 2-day\n",
       "rolling average, and the green line is after subtracting the 2-dat rolling\n",
       "average.</p>\n",
       "<p>In the final dataset, the data for the blue line is in the  <code>cs</code> column, which is created from the cumulative sum of the <code>delta</code> column. The green line is the data in the <code>cs_norm</code> column, which is differentiated to create the <code>delta_norm</code>column. </p>\n",
       "<p>For most purpuses you should use <code>cs_norm</code> and <code>delta_norm</code>.</p>\n",
       "<h2>Contacts</h2>\n",
       "<ul>\n",
       "<li><strong>Wrangler</strong> <a href=\"mailto:eric@civicknowledge.com\">Eric Busboom</a>, <a href=\"http://civicknowledge.com\">Civic Knowledge</a></li>\n",
       "</ul>\n",
       "<h2>References</h2>\n",
       "<ul>\n",
       "<li><strong><a href=\"http://ds.civicknowledge.org/sandiego.gov/cityiq/cityiq-PKIN_PKOUT-20180901-20190201.csv.zip\">parking_events</a></strong>. Parking events</li>\n",
       "<li><strong><a href=\"metapack+http://library.metatab.org/sandiego.gov-cityiq_objects.csv#assets\">assets</a></strong>. Data package with metadata about the parking zone locations.</li>\n",
       "<li><strong><a href=\"metapack+http://library.metatab.org/sandiego.gov-cityiq_objects.csv#locations\">locations</a></strong>. Data package with metadata about the parking zone locations.</li>\n",
       "</ul>"
      ],
      "text/plain": [
       "<metapack.doc.MetapackDoc at 0x1335108d0>"
      ]
     },
     "execution_count": 22,
     "metadata": {},
     "output_type": "execute_result"
    }
   ],
   "source": [
    "pkg = mp.jupyter.open_package()\n",
    "#pkg = mp.jupyter.open_source_package()\n",
    "pkg"
   ]
  },
  {
   "cell_type": "code",
   "execution_count": 23,
   "metadata": {},
   "outputs": [],
   "source": [
    "assets = pkg.reference('assets').dataframe()\n",
    "locations = pkg.reference('locations').dataframe()\n",
    "prk = pkg.reference('parking_events').dataframe()\n",
    "\n",
    "prk.columns  = [e.lower() for e in prk.columns]\n"
   ]
  },
  {
   "cell_type": "code",
   "execution_count": 148,
   "metadata": {},
   "outputs": [
    {
     "data": {
      "text/plain": [
       "6616"
      ]
     },
     "execution_count": 148,
     "metadata": {},
     "output_type": "execute_result"
    }
   ],
   "source": [
    "len(locations)"
   ]
  },
  {
   "cell_type": "code",
   "execution_count": 34,
   "metadata": {},
   "outputs": [],
   "source": [
    "prk_loc = prk.merge(locations, on='locationuid')"
   ]
  },
  {
   "cell_type": "code",
   "execution_count": 95,
   "metadata": {},
   "outputs": [],
   "source": [
    "df = prk_loc[prk_loc.community_name == 'Downtown'].copy()"
   ]
  },
  {
   "cell_type": "code",
   "execution_count": 112,
   "metadata": {},
   "outputs": [
    {
     "data": {
      "text/plain": [
       "Downtown    9477418\n",
       "Name: community_name, dtype: int64"
      ]
     },
     "execution_count": 112,
     "metadata": {},
     "output_type": "execute_result"
    }
   ],
   "source": [
    "df.community_name.value_counts()"
   ]
  },
  {
   "cell_type": "code",
   "execution_count": 75,
   "metadata": {},
   "outputs": [
    {
     "data": {
      "text/plain": [
       "<matplotlib.axes._subplots.AxesSubplot at 0x131eaf128>"
      ]
     },
     "execution_count": 75,
     "metadata": {},
     "output_type": "execute_result"
    },
    {
     "data": {
      "image/png": "[encoded data removed]",
      "text/plain": [
       "<Figure size 288x864 with 2 Axes>"
      ]
     },
     "metadata": {},
     "output_type": "display_data"
    }
   ],
   "source": [
    "t = df[df.locationuid == 'ngxb22vyhqcjksjde40'].groupby([df.time.dt.hour, df.time.dt.weekday]).sum()\n",
    "fig, ax = plt.subplots(figsize=(4, 12)) \n",
    "sns.heatmap(t[['delta_norm']].unstack(), ax=ax,  square=True, cmap=\"BrBG\")"
   ]
  },
  {
   "cell_type": "code",
   "execution_count": 134,
   "metadata": {},
   "outputs": [
    {
     "data": {
      "text/html": [
       "<div>\n",
       "<style scoped>\n",
       "    .dataframe tbody tr th:only-of-type {\n",
       "        vertical-align: middle;\n",
       "    }\n",
       "\n",
       "    .dataframe tbody tr th {\n",
       "        vertical-align: top;\n",
       "    }\n",
       "\n",
       "    .dataframe thead th {\n",
       "        text-align: right;\n",
       "    }\n",
       "</style>\n",
       "<table border=\"1\" class=\"dataframe\">\n",
       "  <thead>\n",
       "    <tr style=\"text-align: right;\">\n",
       "      <th></th>\n",
       "      <th>time</th>\n",
       "      <th>locationuid</th>\n",
       "      <th>delta</th>\n",
       "      <th>cs</th>\n",
       "      <th>delta_norm</th>\n",
       "      <th>cs_norm</th>\n",
       "      <th>locationtype</th>\n",
       "      <th>parentlocationuid</th>\n",
       "      <th>community_name</th>\n",
       "      <th>tract_geoid</th>\n",
       "      <th>roadsegid</th>\n",
       "      <th>speed</th>\n",
       "      <th>oneway</th>\n",
       "      <th>abloaddr</th>\n",
       "      <th>abhiaddr</th>\n",
       "      <th>rd30full</th>\n",
       "      <th>geometry</th>\n",
       "      <th>flow</th>\n",
       "      <th>month</th>\n",
       "    </tr>\n",
       "  </thead>\n",
       "  <tbody>\n",
       "    <tr>\n",
       "      <th>0</th>\n",
       "      <td>2018-09-01 12:30:00</td>\n",
       "      <td>v645089nhwojixbldr0</td>\n",
       "      <td>-1</td>\n",
       "      <td>-1</td>\n",
       "      <td>0</td>\n",
       "      <td>4</td>\n",
       "      <td>PARKING_ZONE</td>\n",
       "      <td>v645089nhwojixbldr0</td>\n",
       "      <td>Downtown</td>\n",
       "      <td>14000US00000006937</td>\n",
       "      <td>38442.0</td>\n",
       "      <td>20.0</td>\n",
       "      <td>B</td>\n",
       "      <td>1100.0</td>\n",
       "      <td>1199.0</td>\n",
       "      <td>J ST</td>\n",
       "      <td>POLYGON ((-117.1539287914682 32.70946929697975...</td>\n",
       "      <td>0</td>\n",
       "      <td>2018-09-15</td>\n",
       "    </tr>\n",
       "    <tr>\n",
       "      <th>1</th>\n",
       "      <td>2018-09-01 12:45:00</td>\n",
       "      <td>v645089nhwojixbldr0</td>\n",
       "      <td>0</td>\n",
       "      <td>-1</td>\n",
       "      <td>0</td>\n",
       "      <td>4</td>\n",
       "      <td>PARKING_ZONE</td>\n",
       "      <td>v645089nhwojixbldr0</td>\n",
       "      <td>Downtown</td>\n",
       "      <td>14000US00000006937</td>\n",
       "      <td>38442.0</td>\n",
       "      <td>20.0</td>\n",
       "      <td>B</td>\n",
       "      <td>1100.0</td>\n",
       "      <td>1199.0</td>\n",
       "      <td>J ST</td>\n",
       "      <td>POLYGON ((-117.1539287914682 32.70946929697975...</td>\n",
       "      <td>0</td>\n",
       "      <td>2018-09-15</td>\n",
       "    </tr>\n",
       "    <tr>\n",
       "      <th>2</th>\n",
       "      <td>2018-09-01 13:00:00</td>\n",
       "      <td>v645089nhwojixbldr0</td>\n",
       "      <td>0</td>\n",
       "      <td>-1</td>\n",
       "      <td>0</td>\n",
       "      <td>4</td>\n",
       "      <td>PARKING_ZONE</td>\n",
       "      <td>v645089nhwojixbldr0</td>\n",
       "      <td>Downtown</td>\n",
       "      <td>14000US00000006937</td>\n",
       "      <td>38442.0</td>\n",
       "      <td>20.0</td>\n",
       "      <td>B</td>\n",
       "      <td>1100.0</td>\n",
       "      <td>1199.0</td>\n",
       "      <td>J ST</td>\n",
       "      <td>POLYGON ((-117.1539287914682 32.70946929697975...</td>\n",
       "      <td>0</td>\n",
       "      <td>2018-09-15</td>\n",
       "    </tr>\n",
       "    <tr>\n",
       "      <th>3</th>\n",
       "      <td>2018-09-01 13:15:00</td>\n",
       "      <td>v645089nhwojixbldr0</td>\n",
       "      <td>2</td>\n",
       "      <td>1</td>\n",
       "      <td>2</td>\n",
       "      <td>6</td>\n",
       "      <td>PARKING_ZONE</td>\n",
       "      <td>v645089nhwojixbldr0</td>\n",
       "      <td>Downtown</td>\n",
       "      <td>14000US00000006937</td>\n",
       "      <td>38442.0</td>\n",
       "      <td>20.0</td>\n",
       "      <td>B</td>\n",
       "      <td>1100.0</td>\n",
       "      <td>1199.0</td>\n",
       "      <td>J ST</td>\n",
       "      <td>POLYGON ((-117.1539287914682 32.70946929697975...</td>\n",
       "      <td>1</td>\n",
       "      <td>2018-09-15</td>\n",
       "    </tr>\n",
       "    <tr>\n",
       "      <th>4</th>\n",
       "      <td>2018-09-01 13:30:00</td>\n",
       "      <td>v645089nhwojixbldr0</td>\n",
       "      <td>-2</td>\n",
       "      <td>-1</td>\n",
       "      <td>-2</td>\n",
       "      <td>4</td>\n",
       "      <td>PARKING_ZONE</td>\n",
       "      <td>v645089nhwojixbldr0</td>\n",
       "      <td>Downtown</td>\n",
       "      <td>14000US00000006937</td>\n",
       "      <td>38442.0</td>\n",
       "      <td>20.0</td>\n",
       "      <td>B</td>\n",
       "      <td>1100.0</td>\n",
       "      <td>1199.0</td>\n",
       "      <td>J ST</td>\n",
       "      <td>POLYGON ((-117.1539287914682 32.70946929697975...</td>\n",
       "      <td>-1</td>\n",
       "      <td>2018-09-15</td>\n",
       "    </tr>\n",
       "  </tbody>\n",
       "</table>\n",
       "</div>"
      ],
      "text/plain": [
       "                 time          locationuid  delta  cs  delta_norm  cs_norm  \\\n",
       "0 2018-09-01 12:30:00  v645089nhwojixbldr0     -1  -1           0        4   \n",
       "1 2018-09-01 12:45:00  v645089nhwojixbldr0      0  -1           0        4   \n",
       "2 2018-09-01 13:00:00  v645089nhwojixbldr0      0  -1           0        4   \n",
       "3 2018-09-01 13:15:00  v645089nhwojixbldr0      2   1           2        6   \n",
       "4 2018-09-01 13:30:00  v645089nhwojixbldr0     -2  -1          -2        4   \n",
       "\n",
       "   locationtype    parentlocationuid community_name         tract_geoid  \\\n",
       "0  PARKING_ZONE  v645089nhwojixbldr0       Downtown  14000US00000006937   \n",
       "1  PARKING_ZONE  v645089nhwojixbldr0       Downtown  14000US00000006937   \n",
       "2  PARKING_ZONE  v645089nhwojixbldr0       Downtown  14000US00000006937   \n",
       "3  PARKING_ZONE  v645089nhwojixbldr0       Downtown  14000US00000006937   \n",
       "4  PARKING_ZONE  v645089nhwojixbldr0       Downtown  14000US00000006937   \n",
       "\n",
       "   roadsegid  speed oneway  abloaddr  abhiaddr rd30full  \\\n",
       "0    38442.0   20.0      B    1100.0    1199.0     J ST   \n",
       "1    38442.0   20.0      B    1100.0    1199.0     J ST   \n",
       "2    38442.0   20.0      B    1100.0    1199.0     J ST   \n",
       "3    38442.0   20.0      B    1100.0    1199.0     J ST   \n",
       "4    38442.0   20.0      B    1100.0    1199.0     J ST   \n",
       "\n",
       "                                            geometry  flow       month  \n",
       "0  POLYGON ((-117.1539287914682 32.70946929697975...     0  2018-09-15  \n",
       "1  POLYGON ((-117.1539287914682 32.70946929697975...     0  2018-09-15  \n",
       "2  POLYGON ((-117.1539287914682 32.70946929697975...     0  2018-09-15  \n",
       "3  POLYGON ((-117.1539287914682 32.70946929697975...     1  2018-09-15  \n",
       "4  POLYGON ((-117.1539287914682 32.70946929697975...    -1  2018-09-15  "
      ]
     },
     "execution_count": 134,
     "metadata": {},
     "output_type": "execute_result"
    }
   ],
   "source": [
    "df['month'] = df.time.apply( lambda v: v.date().replace(day=15))\n",
    "df.head()"
   ]
  },
  {
   "cell_type": "code",
   "execution_count": 147,
   "metadata": {},
   "outputs": [
    {
     "data": {
      "image/png": "[encoded data removed]",
      "text/plain": [
       "<Figure size 576x288 with 2 Axes>"
      ]
     },
     "metadata": {},
     "output_type": "display_data"
    }
   ],
   "source": [
    "\n",
    "from matplotlib.pyplot import xticks, xlabel, suptitle\n",
    "t = df.groupby([df.month, df.time.dt.hour]).sum()\n",
    "fig, ax = plt.subplots(figsize=(8, 4)) \n",
    "ax = sns.heatmap(t[['delta_norm']].unstack(), ax=ax, cmap=\"BrBG\");\n",
    "locs, labels = xticks()\n",
    "xticks(locs, [ f'{e}' for e in range(24)]);\n",
    "xlabel(\"Hour\");\n",
    "suptitle(\"Parking Flow By Hour of Day and Month of Data\");"
   ]
  },
  {
   "cell_type": "code",
   "execution_count": 142,
   "metadata": {},
   "outputs": [
    {
     "data": {
      "text/plain": [
       "<a list of 24 Text xticklabel objects>"
      ]
     },
     "execution_count": 142,
     "metadata": {},
     "output_type": "execute_result"
    }
   ],
   "source": []
  },
  {
   "cell_type": "code",
   "execution_count": 98,
   "metadata": {},
   "outputs": [],
   "source": [
    "df['flow'] = df.delta_norm.apply( lambda v : 0 if abs(v) < 2 else 1 if v > 0 else -1  )"
   ]
  },
  {
   "cell_type": "code",
   "execution_count": 122,
   "metadata": {},
   "outputs": [
    {
     "data": {
      "text/plain": [
       "<matplotlib.axes._subplots.AxesSubplot at 0x137fea0f0>"
      ]
     },
     "execution_count": 122,
     "metadata": {},
     "output_type": "execute_result"
    },
    {
     "data": {
      "image/png": "[encoded data removed]",
      "text/plain": [
       "<Figure size 576x576 with 2 Axes>"
      ]
     },
     "metadata": {},
     "output_type": "display_data"
    }
   ],
   "source": [
    "t = df.groupby([df.time.dt.hour, df.time.dt.week+(df.time.dt.year*100)]).sum().copy()\n",
    "t['flow'] = t.delta_norm.apply( lambda v : 1 if v > 0 else -1  )\n",
    "fig, ax = plt.subplots(figsize=(8, 8)) \n",
    "sns.heatmap(t[['flow']].unstack(), ax=ax,  square=True, cmap=\"viridis\")"
   ]
  },
  {
   "cell_type": "code",
   "execution_count": 121,
   "metadata": {},
   "outputs": [
    {
     "data": {
      "text/plain": [
       "<matplotlib.axes._subplots.AxesSubplot at 0x137f19828>"
      ]
     },
     "execution_count": 121,
     "metadata": {},
     "output_type": "execute_result"
    },
    {
     "data": {
      "image/png": "[encoded data removed]",
      "text/plain": [
       "<Figure size 576x576 with 2 Axes>"
      ]
     },
     "metadata": {},
     "output_type": "display_data"
    }
   ],
   "source": [
    "t = df.groupby([df.time.dt.hour, df.time.dt.dayofweek]).sum().copy()\n",
    "t['flow'] = t.delta_norm.apply( lambda v : 1 if v > 0 else -1  )\n",
    "fig, ax = plt.subplots(figsize=(8, 8)) \n",
    "sns.heatmap(t[['flow']].unstack(), ax=ax,  square=True, cmap=\"viridis\")"
   ]
  },
  {
   "cell_type": "code",
   "execution_count": null,
   "metadata": {},
   "outputs": [],
   "source": []
  }
 ],
 "metadata": {
  "kernelspec": {
   "display_name": "Python 3",
   "language": "python",
   "name": "python3"
  },
  "language_info": {
   "codemirror_mode": {
    "name": "ipython",
    "version": 3
   },
   "file_extension": ".py",
   "mimetype": "text/x-python",
   "name": "python",
   "nbconvert_exporter": "python",
   "pygments_lexer": "ipython3",
   "version": "3.6.0"
  }
 },
 "nbformat": 4,
 "nbformat_minor": 2
}
