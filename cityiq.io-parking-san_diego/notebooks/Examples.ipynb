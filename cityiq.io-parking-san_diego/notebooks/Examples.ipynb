{
 "cells": [
  {
   "cell_type": "code",
   "execution_count": 1,
   "metadata": {},
   "outputs": [],
   "source": [
    "import seaborn as sns\n",
    "import metapack as mp\n",
    "import pandas as pd\n",
    "import numpy as np\n",
    "import matplotlib.pyplot as plt\n",
    "from IPython.display import display \n",
    "\n",
    "%matplotlib inline\n",
    "sns.set_context('notebook')\n",
    "mp.jupyter.init()\n"
   ]
  },
  {
   "cell_type": "code",
   "execution_count": 1,
   "metadata": {},
   "outputs": [
    {
     "data": {
      "text/html": [
       "<h1>San Diego Parking Time Series</h1>\n",
       "<p><code>sandiego.gov-cityiq_parking-2</code> Last Update: 2019-02-16T05:50:44</p>\n",
       "<p><em>15 minute interval parking utilization for 1600 parking zones in San Diego city.</em></p>\n",
       "<p>This datasets is compiled from parking events scraped from the San Diego CityIQ\n",
       "smart streetmap system, via the <a href=\"https://pypi.org/project/cityiq/\">cityiq Python\n",
       "package</a>. The dataset is compiled from PKIN\n",
       "and PKOUT events between the dates of Sept 2018 and Feb 2019 for the whole SaN\n",
       "Diego system.</p>\n",
       "<p>The dataset is heavily processed to eliminate duplicate events because there\n",
       "are many spurious events, but an excess of PKIN events. When computing the\n",
       "number of cars parked in all parking zones, the excess of PKIN events results\n",
       "in about 60,000 extra cars per month. These issues are explored in an <a href=\"https://github.com/sandiegodata/cityiq/blob/master/notebooks/CityIQ%20\n",
       "Leaking%20PKIN%20Events.ipynb\">Jupyter\n",
       "Notebook</a></p>\n",
       "<p>The records in this dataset referece parking zones. More information, including geographic positions, are avialble in the <a href=\"https://data.sandiegodata.org/dataset/sandiego-gov-cityiq_objects\">CityIQ Objects dataset.</a></p>\n",
       "<h2>Processing</h2>\n",
       "<p>These data were produced with these programs: </p>\n",
       "<pre><code>$ pip install cityiq\n",
       "$ ciq_config -w\n",
       "$ # Edit .cityiq-config.yaml with client-id and secret\n",
       "# Scrape PKIN and PKOUT from Sept 2018 to present\n",
       "$ $ ciq_events -s -e PKIN -e PKOUT -t 20190901\n",
       "# Split event dump in to event-location csv files\n",
       "$ ciq_events -S\n",
       "# Deduplicate and normalize\n",
       "$ ciq_events -n\n",
       "</code></pre>\n",
       "<p>The last step, deduplication and normalization, involves these steps: </p>\n",
       "<ul>\n",
       "<li>Group events by event type, location and 1 second period and select only 1\n",
       "  record from each group </li>\n",
       "<li>Collect runs of a events of one type and select only\n",
       "  the first record of the run, up to a run of 4 minutes long </li>\n",
       "<li>For each location, compute the cumulative sum of in and outs ( calculating\n",
       "  the number of cars in the zone ) then create a rolling 2-day average.\n",
       "  Subtract off the average.</li>\n",
       "</ul>\n",
       "<p>The third step is demonstrated in this image:</p>\n",
       "<p><img alt=\"rollnorm\" src=\"http://ds.civicknowledge.org.s3.amazonaws.com/sandiego.gov/cityiq/rolling-renorm.png\" title=\"Rolling Normlization\" /></p>\n",
       "<p>The blue line is the original utilization for a single location, showing the\n",
       "larger number of PKIN events than PKOUT events. The red line is the 2-day\n",
       "rolling average, and the green line is after subtracting the 2-dat rolling\n",
       "average.</p>\n",
       "<p>In the final dataset, the data for the blue line is in the  <code>cs</code> column, which is created from the cumulative sum of the <code>delta</code> column. The green line is the data in the <code>cs_norm</code> column, which is differentiated to create the <code>delta_norm</code>column. </p>\n",
       "<p>For most purpuses you should use <code>cs_norm</code> and <code>delta_norm</code>.</p>\n",
       "<h2>Contacts</h2>\n",
       "<ul>\n",
       "<li><strong>Wrangler</strong> <a href=\"mailto:eric@civicknowledge.com\">Eric Busboom</a>, <a href=\"http://civicknowledge.com\">Civic Knowledge</a></li>\n",
       "</ul>\n",
       "<h2>References</h2>\n",
       "<ul>\n",
       "<li><strong><a href=\"http://ds.civicknowledge.org/sandiego.gov/cityiq/cityiq-PKIN_PKOUT-20180901-20190201.csv.zip\">parking_events</a></strong>. Parking events</li>\n",
       "<li><strong><a href=\"metapacK+http://library.metatab.org/sandiego.gov-cityiq_objects.csv\">Assets and Locations</a></strong>. Data package with metadata about the parking zone locations.</li>\n",
       "</ul>"
      ],
      "text/plain": [
       "<metapack.doc.MetapackDoc at 0x123c7bc88>"
      ]
     },
     "execution_count": 1,
     "metadata": {},
     "output_type": "execute_result"
    }
   ],
   "source": [
    "parking_pkg = mp.open_package('http://library.metatab.org/sandiego.gov-cityiq_parking-2.csv')\n",
    "parking_pkg"
   ]
  },
  {
   "cell_type": "code",
   "execution_count": 13,
   "metadata": {},
   "outputs": [
    {
     "data": {
      "text/html": [
       "<h1>San Diego City IQ Assets and Locations</h1>\n",
       "<p><code>sandiego.gov-cityiq_objects-2</code> Last Update: 2019-02-16T06:29:45</p>\n",
       "<p><em>All assets types extracted form the San Diego City Iq system</em></p>\n",
       "<p>These datafile are extracts of the assets and locations from the San Diego\n",
       "CityIQ system. Refer to the <a href=\"https://ie-cities-docs.run.aws-usw02-pr.ice.predix.io/#c_overview\n",
       " _of_general_apis.html\">CityIQ developer\n",
       "documentation</a> for details about these data records. The data are\n",
       "extracted using the <a href=\"https://pypi.org/project/cityiq/\">cityiq Python package</a>.\n",
       "See the ExtractAssets.ipynb notebook for the extract process.</p>\n",
       "<h2>Contacts</h2>\n",
       "<ul>\n",
       "<li><strong>Wrangler</strong> <a href=\"mailto:eric@civicknowledge.com\">Eric Busboom</a>, <a href=\"http://civicknowledge.com\">Civic Knowledge</a></li>\n",
       "</ul>\n",
       "<h2>Resources</h2>\n",
       "<ul>\n",
       "<li><strong> <a href=\"http://library.metatab.org/sandiego.gov-cityiq_objects-2/data/assets.csv\">assets</a></strong>. All assets</li>\n",
       "<li><strong> <a href=\"http://library.metatab.org/sandiego.gov-cityiq_objects-2/data/locations.csv\">locations</a></strong>. All locations: walkways, traffic lanes and parking zones</li>\n",
       "</ul>\n",
       "<h2>References</h2>\n",
       "<ul>\n",
       "<li><strong><a href=\"index:sangis.org-roads-sandiego#all_roads\">sdroads</a></strong>. Roads in San Diego</li>\n",
       "<li><strong><a href=\"metapack+http://library.metatab.org/sandiegodata.org-geography-2018.csv\">geography</a></strong>. San Diego tracts and communities</li>\n",
       "</ul>"
      ],
      "text/plain": [
       "<metapack.doc.MetapackDoc at 0x1256ba208>"
      ]
     },
     "execution_count": 13,
     "metadata": {},
     "output_type": "execute_result"
    }
   ],
   "source": [
    "meta_pkg = mp.open_package('http://library.metatab.org/sandiego.gov-cityiq_objects-2.csv')\n",
    "meta_pkg"
   ]
  },
  {
   "cell_type": "code",
   "execution_count": 14,
   "metadata": {},
   "outputs": [],
   "source": [
    "locations = meta_pkg.resource('locations').dataframe()\n",
    "pzones = locations[locations.locationtype == 'PARKING_ZONE']"
   ]
  },
  {
   "cell_type": "code",
   "execution_count": 15,
   "metadata": {},
   "outputs": [
    {
     "data": {
      "text/html": [
       "<div>\n",
       "<style scoped>\n",
       "    .dataframe tbody tr th:only-of-type {\n",
       "        vertical-align: middle;\n",
       "    }\n",
       "\n",
       "    .dataframe tbody tr th {\n",
       "        vertical-align: top;\n",
       "    }\n",
       "\n",
       "    .dataframe thead th {\n",
       "        text-align: right;\n",
       "    }\n",
       "</style>\n",
       "<table border=\"1\" class=\"dataframe\">\n",
       "  <thead>\n",
       "    <tr style=\"text-align: right;\">\n",
       "      <th></th>\n",
       "      <th>locationuid</th>\n",
       "      <th>locationtype</th>\n",
       "      <th>parentlocationuid</th>\n",
       "      <th>geometry</th>\n",
       "    </tr>\n",
       "  </thead>\n",
       "  <tbody>\n",
       "    <tr>\n",
       "      <th>93</th>\n",
       "      <td>03e23a6ace01fc14a86ab250ce65b682</td>\n",
       "      <td>PARKING_ZONE</td>\n",
       "      <td>03e23a6ace01fc14a86ab250ce65b682</td>\n",
       "      <td>40053.0</td>\n",
       "    </tr>\n",
       "    <tr>\n",
       "      <th>115</th>\n",
       "      <td>051zxsk4ofy6jl2daq51</td>\n",
       "      <td>PARKING_ZONE</td>\n",
       "      <td>051zxsk4ofy6jl2daq51</td>\n",
       "      <td>2027.0</td>\n",
       "    </tr>\n",
       "    <tr>\n",
       "      <th>131</th>\n",
       "      <td>05yh4xfuhdvbjl5dc16y</td>\n",
       "      <td>PARKING_ZONE</td>\n",
       "      <td>05yh4xfuhdvbjl5dc16y</td>\n",
       "      <td>528.0</td>\n",
       "    </tr>\n",
       "    <tr>\n",
       "      <th>139</th>\n",
       "      <td>06c474fb976e2f394b69309d41d19f7f</td>\n",
       "      <td>PARKING_ZONE</td>\n",
       "      <td>06c474fb976e2f394b69309d41d19f7f</td>\n",
       "      <td>9022.0</td>\n",
       "    </tr>\n",
       "    <tr>\n",
       "      <th>165</th>\n",
       "      <td>07c91510cc45f849766b1d3bbab46e90</td>\n",
       "      <td>PARKING_ZONE</td>\n",
       "      <td>07c91510cc45f849766b1d3bbab46e90</td>\n",
       "      <td>838.0</td>\n",
       "    </tr>\n",
       "  </tbody>\n",
       "</table>\n",
       "</div>"
      ],
      "text/plain": [
       "                          locationuid  locationtype  \\\n",
       "93   03e23a6ace01fc14a86ab250ce65b682  PARKING_ZONE   \n",
       "115              051zxsk4ofy6jl2daq51  PARKING_ZONE   \n",
       "131              05yh4xfuhdvbjl5dc16y  PARKING_ZONE   \n",
       "139  06c474fb976e2f394b69309d41d19f7f  PARKING_ZONE   \n",
       "165  07c91510cc45f849766b1d3bbab46e90  PARKING_ZONE   \n",
       "\n",
       "                    parentlocationuid  geometry  \n",
       "93   03e23a6ace01fc14a86ab250ce65b682   40053.0  \n",
       "115              051zxsk4ofy6jl2daq51    2027.0  \n",
       "131              05yh4xfuhdvbjl5dc16y     528.0  \n",
       "139  06c474fb976e2f394b69309d41d19f7f    9022.0  \n",
       "165  07c91510cc45f849766b1d3bbab46e90     838.0  "
      ]
     },
     "execution_count": 15,
     "metadata": {},
     "output_type": "execute_result"
    }
   ],
   "source": [
    "pzones.head()"
   ]
  },
  {
   "cell_type": "code",
   "execution_count": null,
   "metadata": {},
   "outputs": [],
   "source": []
  }
 ],
 "metadata": {
  "kernelspec": {
   "display_name": "Python 3",
   "language": "python",
   "name": "python3"
  },
  "language_info": {
   "codemirror_mode": {
    "name": "ipython",
    "version": 3
   },
   "file_extension": ".py",
   "mimetype": "text/x-python",
   "name": "python",
   "nbconvert_exporter": "python",
   "pygments_lexer": "ipython3",
   "version": "3.6.0"
  }
 },
 "nbformat": 4,
 "nbformat_minor": 2
}
