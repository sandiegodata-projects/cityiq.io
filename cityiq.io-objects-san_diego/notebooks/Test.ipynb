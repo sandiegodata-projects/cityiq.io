{
 "cells": [
  {
   "cell_type": "code",
   "execution_count": 1,
   "metadata": {},
   "outputs": [],
   "source": [
    "import seaborn as sns\n",
    "import metapack as mp\n",
    "import pandas as pd\n",
    "import numpy as np\n",
    "import matplotlib.pyplot as plt\n",
    "from IPython.display import display \n",
    "\n",
    "%matplotlib inline\n",
    "sns.set_context('notebook')\n",
    "mp.jupyter.init()\n",
    "\n",
    "from itertools import islice\n"
   ]
  },
  {
   "cell_type": "code",
   "execution_count": 2,
   "metadata": {},
   "outputs": [
    {
     "data": {
      "text/html": [
       "<h1>San Diego City IQ Assets and Locations</h1>\n",
       "<p><code>cityiq.io-objects-san_diego-5</code> Last Update: 2019-06-04T23:09:02</p>\n",
       "<p><em>All assets types extracted form the San Diego City Iq system</em></p>\n",
       "<p>These datafile are extracts of the assets and locations from the San Diego\n",
       "CityIQ system. Refer to the <a href=\"https://ie-cities-docs.run.aws-usw02-pr.ice.predix.io/#c_overview\n",
       " _of_general_apis.html\">CityIQ developer\n",
       "documentation</a> for details about these data records. The data are\n",
       "extracted using the <a href=\"https://pypi.org/project/cityiq/\">cityiq Python package</a>.\n",
       "See the ExtractAssets.ipynb notebook for the extract process.</p>\n",
       "<h2>Versions</h2>\n",
       "<ol>\n",
       "<li>Development version</li>\n",
       "<li>Development version</li>\n",
       "<li>First release</li>\n",
       "<li>Added tract and community names</li>\n",
       "<li>Rebuild with recent data, and broke out asset and location types</li>\n",
       "</ol>\n",
       "<h2>Contacts</h2>\n",
       "<ul>\n",
       "<li><strong>Wrangler</strong> <a href=\"mailto:eric@civicknowledge.com\">Eric Busboom</a>, <a href=\"http://civicknowledge.com\">Civic Knowledge</a></li>\n",
       "</ul>\n",
       "<h2>Resources</h2>\n",
       "<ul>\n",
       "<li><strong> <a href=\"data/assets.csv\">assets</a></strong>. All assets</li>\n",
       "<li><strong> <a href=\"data/locations.csv\">locations</a></strong>. All locations: walkways, traffic lanes and parking zones</li>\n",
       "<li><strong> <a href=\"data/walkways.csv\">walkways</a></strong>. Walkways</li>\n",
       "<li><strong> <a href=\"data/traffic_lanes.csv\">traffic_lanes</a></strong>. Traffic lanes</li>\n",
       "<li><strong> <a href=\"data/parking_zones.csv\">parking_zones</a></strong>. Parking zones</li>\n",
       "<li><strong> <a href=\"data/cameras.csv\">cameras</a></strong>. Cameras</li>\n",
       "<li><strong> <a href=\"data/mics.csv\">mics</a></strong>. Microphones</li>\n",
       "<li><strong> <a href=\"data/nodes.csv\">nodes</a></strong>. Nodes</li>\n",
       "<li><strong> <a href=\"data/em_sensors.csv\">em_sensors</a></strong>. Electro-magnetic sensors</li>\n",
       "<li><strong> <a href=\"data/env_sensors.csv\">env_sensors</a></strong>. Environmental sensors</li>\n",
       "</ul>\n",
       "<h2>References</h2>\n",
       "<ul>\n",
       "<li><strong><a href=\"metapack+http://library.metatab.org/sangis.org-roads-sandiego-1.zip#all_roads\">sdroads</a></strong>. Roads in San Diego</li>\n",
       "<li><strong><a href=\"metapack+http://library.metatab.org/sandiegodata.org-geography-2018.csv#tract_boundaries\">tract_boundaries</a></strong>. San Diego tracts and communities</li>\n",
       "<li><strong><a href=\"metapack+http://library.metatab.org/sandiegodata.org-geography-2018.csv#sd_community_boundaries\">sd_community_boundaries</a></strong>. San Diego tracts and communities</li>\n",
       "</ul>"
      ],
      "text/plain": [
       "# San Diego City IQ Assets and Locations\n",
       "`cityiq.io-objects-san_diego-5` Last Update: 2019-06-04T23:09:02\n",
       "\n",
       "_All assets types extracted form the San Diego City Iq system_\n",
       "\n",
       "\n",
       "These datafile are extracts of the assets and locations from the San Diego\n",
       "CityIQ system. Refer to the [CityIQ developer\n",
       "documentation](https://ie-cities-docs.run.aws-usw02-pr.ice.predix.io/#c_overview\n",
       " _of_general_apis.html) for details about these data records. The data are\n",
       "extracted using the [cityiq Python package](https://pypi.org/project/cityiq/).\n",
       "See the ExtractAssets.ipynb notebook for the extract process.\n",
       "\n",
       "## Versions\n",
       "\n",
       "1. Development version\n",
       "2. Development version\n",
       "3. First release\n",
       "4. Added tract and community names\n",
       "5. Rebuild with recent data, and broke out asset and location types\n",
       "\n",
       "\n",
       " \n",
       " \n",
       "## Contacts\n",
       "\n",
       "* **Wrangler** [Eric Busboom](mailto:eric@civicknowledge.com), [Civic Knowledge](http://civicknowledge.com)\n",
       " \n",
       "## Resources\n",
       "\n",
       "* ** [assets](data/assets.csv)**. All assets\n",
       "* ** [locations](data/locations.csv)**. All locations: walkways, traffic lanes and parking zones\n",
       "* ** [walkways](data/walkways.csv)**. Walkways\n",
       "* ** [traffic_lanes](data/traffic_lanes.csv)**. Traffic lanes\n",
       "* ** [parking_zones](data/parking_zones.csv)**. Parking zones\n",
       "* ** [cameras](data/cameras.csv)**. Cameras\n",
       "* ** [mics](data/mics.csv)**. Microphones\n",
       "* ** [nodes](data/nodes.csv)**. Nodes\n",
       "* ** [em_sensors](data/em_sensors.csv)**. Electro-magnetic sensors\n",
       "* ** [env_sensors](data/env_sensors.csv)**. Environmental sensors\n",
       " \n",
       "## References\n",
       "\n",
       "* **[sdroads](metapack+http://library.metatab.org/sangis.org-roads-sandiego-1.zip#all_roads)**. Roads in San Diego\n",
       "* **[tract_boundaries](metapack+http://library.metatab.org/sandiegodata.org-geography-2018.csv#tract_boundaries)**. San Diego tracts and communities\n",
       "* **[sd_community_boundaries](metapack+http://library.metatab.org/sandiegodata.org-geography-2018.csv#sd_community_boundaries)**. San Diego tracts and communities"
      ]
     },
     "execution_count": 2,
     "metadata": {},
     "output_type": "execute_result"
    }
   ],
   "source": [
    "pkg = mp.jupyter.open_package()\n",
    "#pkg = mp.jupyter.open_source_package()\n",
    "pkg"
   ]
  },
  {
   "cell_type": "code",
   "execution_count": null,
   "metadata": {},
   "outputs": [],
   "source": []
  }
 ],
 "metadata": {
  "kernelspec": {
   "display_name": "Python 3",
   "language": "python",
   "name": "python3"
  },
  "language_info": {
   "codemirror_mode": {
    "name": "ipython",
    "version": 3
   },
   "file_extension": ".py",
   "mimetype": "text/x-python",
   "name": "python",
   "nbconvert_exporter": "python",
   "pygments_lexer": "ipython3",
   "version": "3.7.3"
  }
 },
 "nbformat": 4,
 "nbformat_minor": 2
}
