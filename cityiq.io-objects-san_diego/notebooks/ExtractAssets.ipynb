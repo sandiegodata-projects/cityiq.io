{
 "cells": [
  {
   "cell_type": "code",
   "execution_count": 1,
   "metadata": {},
   "outputs": [],
   "source": [
    "import seaborn as sns\n",
    "import metapack as mp\n",
    "import pandas as pd\n",
    "import numpy as np\n",
    "import geopandas as gpd\n",
    "\n",
    "import matplotlib.pyplot as plt\n",
    "from IPython.display import display \n",
    "\n",
    "import datetime\n",
    "from cityiq import Config, CityIq\n",
    "from cityiq.api import Asset, Location\n",
    "\n",
    "%matplotlib inline\n",
    "sns.set_context('notebook')\n",
    "mp.jupyter.init()\n"
   ]
  },
  {
   "cell_type": "code",
   "execution_count": 2,
   "metadata": {},
   "outputs": [
    {
     "data": {
      "text/html": [
       "<h1>San Diego City IQ Assets and Locations</h1>\n",
       "<p><code>cityiq.io-objects-san_diego-5</code> Last Update: 2019-06-04T20:19:25</p>\n",
       "<p><em>All assets types extracted form the San Diego City Iq system</em></p>\n",
       "<p>These datafile are extracts of the assets and locations from the San Diego\n",
       "CityIQ system. Refer to the <a href=\"https://ie-cities-docs.run.aws-usw02-pr.ice.predix.io/#c_overview\n",
       " _of_general_apis.html\">CityIQ developer\n",
       "documentation</a> for details about these data records. The data are\n",
       "extracted using the <a href=\"https://pypi.org/project/cityiq/\">cityiq Python package</a>.\n",
       "See the ExtractAssets.ipynb notebook for the extract process.</p>\n",
       "<h2>Versions</h2>\n",
       "<ol>\n",
       "<li>Development version</li>\n",
       "<li>Development version</li>\n",
       "<li>First release</li>\n",
       "<li>Added tract and community names</li>\n",
       "<li>Rebuild with recent data, and broke out asset and location types</li>\n",
       "</ol>\n",
       "<h2>Contacts</h2>\n",
       "<ul>\n",
       "<li><strong>Wrangler</strong> <a href=\"mailto:eric@civicknowledge.com\">Eric Busboom</a>, <a href=\"http://civicknowledge.com\">Civic Knowledge</a></li>\n",
       "</ul>\n",
       "<h2>Resources</h2>\n",
       "<ul>\n",
       "<li><strong> <a href=\"notebooks/ExtractAssets.ipynb#assets\">assets</a></strong>. All assets</li>\n",
       "<li><strong> <a href=\"notebooks/ExtractAssets.ipynb#locations\">locations</a></strong>. All locations: walkways, traffic lanes and parking zones</li>\n",
       "<li><strong> <a href=\"notebooks/ExtractAssets.ipynb#walkways\">walkways</a></strong>. Walkways</li>\n",
       "<li><strong> <a href=\"notebooks/ExtractAssets.ipynb#traffic_lanes\">traffic_lanes</a></strong>. Traffic lanes</li>\n",
       "<li><strong> <a href=\"notebooks/ExtractAssets.ipynb#parking_zones\">parking_zones</a></strong>. Parking zones</li>\n",
       "<li><strong> <a href=\"notebooks/ExtractAssets.ipynb#cameras\">cameras</a></strong>. Cameras</li>\n",
       "<li><strong> <a href=\"notebooks/ExtractAssets.ipynb#mics\">mics</a></strong>. Microphones</li>\n",
       "<li><strong> <a href=\"notebooks/ExtractAssets.ipynb#nodes\">nodes</a></strong>. Nodes</li>\n",
       "<li><strong> <a href=\"notebooks/ExtractAssets.ipynb#em_sensors\">em_sensors</a></strong>. Electro-magnetic sensors</li>\n",
       "<li><strong> <a href=\"notebooks/ExtractAssets.ipynb#env_sensors\">env_sensors</a></strong>. Environmental sensors</li>\n",
       "</ul>\n",
       "<h2>References</h2>\n",
       "<ul>\n",
       "<li><strong><a href=\"metapack+http://library.metatab.org/sangis.org-roads-sandiego-1.zip#all_roads\">sdroads</a></strong>. Roads in San Diego</li>\n",
       "<li><strong><a href=\"metapack+http://library.metatab.org/sandiegodata.org-geography-2018.csv#tract_boundaries\">tract_boundaries</a></strong>. San Diego tracts and communities</li>\n",
       "<li><strong><a href=\"metapack+http://library.metatab.org/sandiegodata.org-geography-2018.csv#sd_community_boundaries\">sd_community_boundaries</a></strong>. San Diego tracts and communities</li>\n",
       "</ul>"
      ],
      "text/plain": [
       "# San Diego City IQ Assets and Locations\n",
       "`cityiq.io-objects-san_diego-5` Last Update: 2019-06-04T20:19:25\n",
       "\n",
       "_All assets types extracted form the San Diego City Iq system_\n",
       "\n",
       "\n",
       "These datafile are extracts of the assets and locations from the San Diego\n",
       "CityIQ system. Refer to the [CityIQ developer\n",
       "documentation](https://ie-cities-docs.run.aws-usw02-pr.ice.predix.io/#c_overview\n",
       " _of_general_apis.html) for details about these data records. The data are\n",
       "extracted using the [cityiq Python package](https://pypi.org/project/cityiq/).\n",
       "See the ExtractAssets.ipynb notebook for the extract process.\n",
       "\n",
       "## Versions\n",
       "\n",
       "1. Development version\n",
       "2. Development version\n",
       "3. First release\n",
       "4. Added tract and community names\n",
       "5. Rebuild with recent data, and broke out asset and location types\n",
       "\n",
       "\n",
       " \n",
       " \n",
       "## Contacts\n",
       "\n",
       "* **Wrangler** [Eric Busboom](mailto:eric@civicknowledge.com), [Civic Knowledge](http://civicknowledge.com)\n",
       " \n",
       "## Resources\n",
       "\n",
       "* ** [assets](notebooks/ExtractAssets.ipynb#assets)**. All assets\n",
       "* ** [locations](notebooks/ExtractAssets.ipynb#locations)**. All locations: walkways, traffic lanes and parking zones\n",
       "* ** [walkways](notebooks/ExtractAssets.ipynb#walkways)**. Walkways\n",
       "* ** [traffic_lanes](notebooks/ExtractAssets.ipynb#traffic_lanes)**. Traffic lanes\n",
       "* ** [parking_zones](notebooks/ExtractAssets.ipynb#parking_zones)**. Parking zones\n",
       "* ** [cameras](notebooks/ExtractAssets.ipynb#cameras)**. Cameras\n",
       "* ** [mics](notebooks/ExtractAssets.ipynb#mics)**. Microphones\n",
       "* ** [nodes](notebooks/ExtractAssets.ipynb#nodes)**. Nodes\n",
       "* ** [em_sensors](notebooks/ExtractAssets.ipynb#em_sensors)**. Electro-magnetic sensors\n",
       "* ** [env_sensors](notebooks/ExtractAssets.ipynb#env_sensors)**. Environmental sensors\n",
       " \n",
       "## References\n",
       "\n",
       "* **[sdroads](metapack+http://library.metatab.org/sangis.org-roads-sandiego-1.zip#all_roads)**. Roads in San Diego\n",
       "* **[tract_boundaries](metapack+http://library.metatab.org/sandiegodata.org-geography-2018.csv#tract_boundaries)**. San Diego tracts and communities\n",
       "* **[sd_community_boundaries](metapack+http://library.metatab.org/sandiegodata.org-geography-2018.csv#sd_community_boundaries)**. San Diego tracts and communities"
      ]
     },
     "execution_count": 2,
     "metadata": {},
     "output_type": "execute_result"
    }
   ],
   "source": [
    "#pkg = mp.jupyter.open_package()\n",
    "pkg = mp.jupyter.open_source_package()\n",
    "pkg"
   ]
  },
  {
   "cell_type": "code",
   "execution_count": 3,
   "metadata": {},
   "outputs": [],
   "source": [
    "tracts = pkg.reference('tract_boundaries').geoframe()\n",
    "comm = pkg.reference('sd_community_boundaries').geoframe()\n"
   ]
  },
  {
   "cell_type": "code",
   "execution_count": 4,
   "metadata": {},
   "outputs": [],
   "source": [
    "\n",
    "tz = datetime.datetime.now(datetime.timezone.utc).astimezone().tzinfo\n",
    "\n",
    "config = Config()\n",
    "ciq = CityIq(config, start_time='20180901')"
   ]
  },
  {
   "cell_type": "code",
   "execution_count": null,
   "metadata": {},
   "outputs": [],
   "source": [
    "roads = pkg.reference('sdroads').geoframe()\n",
    "sdroads = roads[(roads.lpsjur == 'SD') | (roads.rpsjur == 'SD')].copy()\n",
    "\n",
    "# Convert to EPSG:2875 ( California zone 6, feet ) so we can make the buffer in feet\n",
    "sdroads = sdroads.to_crs({'init':'epsg:2875'})\n",
    "\n",
    "# Buffer the roads to be big enough to enclose the assets\n",
    "sdroads['geometry'] = sdroads.geometry.apply(lambda g : g.buffer(60,cap_style=1, join_style=2))\n",
    "\n",
    "sdroads = sdroads.to_crs( {'init':'epsg:4326'} )\n",
    "# sdroads.to_csv('sdroads.csv')"
   ]
  },
  {
   "cell_type": "code",
   "execution_count": null,
   "metadata": {},
   "outputs": [],
   "source": [
    "assets = gpd.GeoDataFrame(ciq.asset_dataframe, geometry='geometry')\n",
    "l1 = len(assets)\n",
    "print(len(assets))\n",
    "assets.crs = {'init':'epsg:4326'} \n",
    "\n",
    "ac = assets.copy()\n",
    "ac['geometry'] = ac.centroid.to_crs({'init':'epsg:2875'}).buffer(20).to_crs( {'init':'epsg:4326'} )\n",
    "\n",
    "# Link to roads\n",
    "t = gpd.sjoin(ac, sdroads, how='left').drop(columns=['index_right'])\n",
    "\n",
    "# Link to communities\n",
    "t = gpd.sjoin(t, comm[comm['type'] == 'sd_community'][['geometry','name']], how='left').drop(columns=['index_right'])\n",
    "\n",
    "# Link to tracts\n",
    "t = gpd.sjoin(t, tracts[['geometry','geoid']], how='left')\n",
    "\n",
    "t = t[list(assets)[:-1] + \n",
    "           ['name','geoid','roadsegid', 'speed', 'oneway','abloaddr', 'abhiaddr', 'rd30full'] +\n",
    "           ['geometry'] ].drop_duplicates(subset='assetUid')\\\n",
    "           .rename(columns={'name':'community_name','geoid':'tract_geoid'})\n",
    "\n",
    "assets = t.drop(columns='geometry').join(assets['geometry'])\n",
    "\n",
    "assert len(assets) == l1\n",
    "           \n",
    "# How many assets and locations did not get linked to roads?\n",
    "len(assets[assets.speed.isnull()]), len(assets)\n",
    "           "
   ]
  },
  {
   "cell_type": "code",
   "execution_count": null,
   "metadata": {},
   "outputs": [],
   "source": [
    "locations = gpd.GeoDataFrame(ciq.locations_dataframe, geometry='geometry')\n",
    "\n",
    "l1 = len(locations)\n",
    "locations.crs = {'init':'epsg:4326'}\n",
    "lc = locations.copy()\n",
    "\n",
    "lc['geometry'] =  locations.centroid.to_crs({'init':'epsg:2875'}).buffer(20).to_crs( {'init':'epsg:4326'} )\n",
    "\n",
    "# Link to roads\n",
    "t = gpd.sjoin(lc, sdroads, how='left').drop(columns=['index_right'])\n",
    "\n",
    "# Link to communities\n",
    "t = gpd.sjoin(t, comm[comm['type'] == 'sd_community'][['geometry','name']], how='left').drop(columns=['index_right'])\n",
    "\n",
    "# Link to tracts\n",
    "t = gpd.sjoin(t, tracts[['geometry','geoid']], how='left')\n",
    "\n",
    "t = t[list(lc)[:-1] + \n",
    "           ['name','geoid','roadsegid', 'speed', 'oneway','abloaddr', 'abhiaddr', 'rd30full'] +\n",
    "           ['geometry'] ].drop_duplicates(subset='locationUid')\\\n",
    "           .rename(columns={'name':'community_name','geoid':'tract_geoid'})\n",
    "\n",
    "locations = t.drop(columns='geometry').join(locations['geometry'])\n",
    "\n",
    "\n",
    "assert len(locations) == l1"
   ]
  },
  {
   "cell_type": "code",
   "execution_count": 7,
   "metadata": {},
   "outputs": [
    {
     "data": {
      "text/html": [
       "<div>\n",
       "<style scoped>\n",
       "    .dataframe tbody tr th:only-of-type {\n",
       "        vertical-align: middle;\n",
       "    }\n",
       "\n",
       "    .dataframe tbody tr th {\n",
       "        vertical-align: top;\n",
       "    }\n",
       "\n",
       "    .dataframe thead th {\n",
       "        text-align: right;\n",
       "    }\n",
       "</style>\n",
       "<table border=\"1\" class=\"dataframe\">\n",
       "  <thead>\n",
       "    <tr style=\"text-align: right;\">\n",
       "      <th></th>\n",
       "      <th>locationUid</th>\n",
       "      <th>locationType</th>\n",
       "      <th>parentLocationUid</th>\n",
       "      <th>geometry</th>\n",
       "    </tr>\n",
       "  </thead>\n",
       "  <tbody>\n",
       "    <tr>\n",
       "      <th>0</th>\n",
       "      <td>004361eb</td>\n",
       "      <td>WALKWAY</td>\n",
       "      <td>004361eb</td>\n",
       "      <td>LINESTRING (-117.1706148251287 32.726548905684...</td>\n",
       "    </tr>\n",
       "    <tr>\n",
       "      <th>1</th>\n",
       "      <td>00456472</td>\n",
       "      <td>TRAFFIC_LANE</td>\n",
       "      <td>00456472</td>\n",
       "      <td>LINESTRING (-117.1705245131968 32.726558517207...</td>\n",
       "    </tr>\n",
       "    <tr>\n",
       "      <th>2</th>\n",
       "      <td>0051796c</td>\n",
       "      <td>WALKWAY</td>\n",
       "      <td>0051796c</td>\n",
       "      <td>LINESTRING (-117.1666581391174 32.722214661862...</td>\n",
       "    </tr>\n",
       "    <tr>\n",
       "      <th>3</th>\n",
       "      <td>00537bf3</td>\n",
       "      <td>TRAFFIC_LANE</td>\n",
       "      <td>00537bf3</td>\n",
       "      <td>LINESTRING (-117.166581746989 32.7222178855665...</td>\n",
       "    </tr>\n",
       "    <tr>\n",
       "      <th>4</th>\n",
       "      <td>005f90ed</td>\n",
       "      <td>WALKWAY</td>\n",
       "      <td>005f90ed</td>\n",
       "      <td>LINESTRING (-117.1665182431568 32.723810889902...</td>\n",
       "    </tr>\n",
       "  </tbody>\n",
       "</table>\n",
       "</div>"
      ],
      "text/plain": [
       "  locationUid  locationType parentLocationUid  \\\n",
       "0    004361eb       WALKWAY          004361eb   \n",
       "1    00456472  TRAFFIC_LANE          00456472   \n",
       "2    0051796c       WALKWAY          0051796c   \n",
       "3    00537bf3  TRAFFIC_LANE          00537bf3   \n",
       "4    005f90ed       WALKWAY          005f90ed   \n",
       "\n",
       "                                            geometry  \n",
       "0  LINESTRING (-117.1706148251287 32.726548905684...  \n",
       "1  LINESTRING (-117.1705245131968 32.726558517207...  \n",
       "2  LINESTRING (-117.1666581391174 32.722214661862...  \n",
       "3  LINESTRING (-117.166581746989 32.7222178855665...  \n",
       "4  LINESTRING (-117.1665182431568 32.723810889902...  "
      ]
     },
     "execution_count": 7,
     "metadata": {},
     "output_type": "execute_result"
    }
   ],
   "source": [
    "locations.head()"
   ]
  },
  {
   "cell_type": "code",
   "execution_count": 8,
   "metadata": {},
   "outputs": [
    {
     "data": {
      "text/plain": [
       "array(['WALKWAY', 'TRAFFIC_LANE', 'PARKING_ZONE'], dtype=object)"
      ]
     },
     "execution_count": 8,
     "metadata": {},
     "output_type": "execute_result"
    }
   ],
   "source": [
    "locations.locationType.unique()"
   ]
  },
  {
   "cell_type": "code",
   "execution_count": 9,
   "metadata": {},
   "outputs": [],
   "source": [
    "walkways = locations[locations.locationType == 'WALKWAY']\n",
    "traffic_lanes = locations[locations.locationType == 'TRAFFIC_LANE']\n",
    "parking_zones = locations[locations.locationType == 'PARKING_ZONE']\n"
   ]
  },
  {
   "cell_type": "code",
   "execution_count": 10,
   "metadata": {},
   "outputs": [
    {
     "data": {
      "text/plain": [
       "array(['CAMERA', 'MIC', 'NODE', 'EM_SENSOR', 'ENV_SENSOR'], dtype=object)"
      ]
     },
     "execution_count": 10,
     "metadata": {},
     "output_type": "execute_result"
    }
   ],
   "source": [
    "assets.assetType.unique()"
   ]
  },
  {
   "cell_type": "code",
   "execution_count": 11,
   "metadata": {},
   "outputs": [],
   "source": [
    "nodes = assets[assets.assetType == 'NODE']\n",
    "cameras = assets[assets.assetType == 'CAMERA']\n",
    "mics = assets[assets.assetType == 'MIC']\n",
    "em_sensors = assets[assets.assetType == 'EM_SENSOR']\n",
    "env_sensors = assets[assets.assetType == 'ENV_SENSOR']\n"
   ]
  },
  {
   "cell_type": "code",
   "execution_count": 12,
   "metadata": {},
   "outputs": [
    {
     "name": "stdout",
     "output_type": "stream",
     "text": [
      "walkway\n",
      "traffic_lane\n",
      "parking_zone\n",
      "camera\n",
      "mic\n",
      "node\n",
      "em_sensor\n",
      "env_sensor\n"
     ]
    }
   ],
   "source": [
    "for e in list(locations.locationType.unique())+list(assets.assetType.unique()):\n",
    "    print (e.lower())"
   ]
  },
  {
   "cell_type": "code",
   "execution_count": null,
   "metadata": {},
   "outputs": [],
   "source": []
  }
 ],
 "metadata": {
  "kernelspec": {
   "display_name": "Python 3",
   "language": "python",
   "name": "python3"
  },
  "language_info": {
   "codemirror_mode": {
    "name": "ipython",
    "version": 3
   },
   "file_extension": ".py",
   "mimetype": "text/x-python",
   "name": "python",
   "nbconvert_exporter": "python",
   "pygments_lexer": "ipython3",
   "version": "3.7.3"
  }
 },
 "nbformat": 4,
 "nbformat_minor": 2
}
