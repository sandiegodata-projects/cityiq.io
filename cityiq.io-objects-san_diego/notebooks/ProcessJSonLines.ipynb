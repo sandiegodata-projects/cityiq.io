{
 "cells": [
  {
   "cell_type": "code",
   "execution_count": 1,
   "metadata": {},
   "outputs": [],
   "source": [
    "import pandas as pd\n",
    "from pandas.io.json import json_normalize\n",
    "import json\n"
   ]
  },
  {
   "cell_type": "code",
   "execution_count": 5,
   "metadata": {},
   "outputs": [],
   "source": [
    "fn = '/net/nas2/cache/cityiq/objects/location/03/03e23a6ace01fc14a86ab250ce65b682/2018/10-PKOUT.json'\n"
   ]
  },
  {
   "cell_type": "code",
   "execution_count": 6,
   "metadata": {},
   "outputs": [
    {
     "data": {
      "text/html": [
       "<div>\n",
       "<style scoped>\n",
       "    .dataframe tbody tr th:only-of-type {\n",
       "        vertical-align: middle;\n",
       "    }\n",
       "\n",
       "    .dataframe tbody tr th {\n",
       "        vertical-align: top;\n",
       "    }\n",
       "\n",
       "    .dataframe thead th {\n",
       "        text-align: right;\n",
       "    }\n",
       "</style>\n",
       "<table border=\"1\" class=\"dataframe\">\n",
       "  <thead>\n",
       "    <tr style=\"text-align: right;\">\n",
       "      <th></th>\n",
       "      <th>start_time</th>\n",
       "      <th>end_time</th>\n",
       "      <th>locationUid</th>\n",
       "      <th>event_type</th>\n",
       "      <th>events</th>\n",
       "    </tr>\n",
       "  </thead>\n",
       "  <tbody>\n",
       "    <tr>\n",
       "      <th>0</th>\n",
       "      <td>2018-10-01 08:00:00</td>\n",
       "      <td>2018-11-01 08:00:00</td>\n",
       "      <td>03e23a6ace01fc14a86ab250ce65b682</td>\n",
       "      <td>PKOUT</td>\n",
       "      <td>{'locationUid': '03e23a6ace01fc14a86ab250ce65b...</td>\n",
       "    </tr>\n",
       "    <tr>\n",
       "      <th>1</th>\n",
       "      <td>2018-10-01 08:00:00</td>\n",
       "      <td>2018-11-01 08:00:00</td>\n",
       "      <td>03e23a6ace01fc14a86ab250ce65b682</td>\n",
       "      <td>PKOUT</td>\n",
       "      <td>{'locationUid': '03e23a6ace01fc14a86ab250ce65b...</td>\n",
       "    </tr>\n",
       "    <tr>\n",
       "      <th>2</th>\n",
       "      <td>2018-10-01 08:00:00</td>\n",
       "      <td>2018-11-01 08:00:00</td>\n",
       "      <td>03e23a6ace01fc14a86ab250ce65b682</td>\n",
       "      <td>PKOUT</td>\n",
       "      <td>{'locationUid': '03e23a6ace01fc14a86ab250ce65b...</td>\n",
       "    </tr>\n",
       "    <tr>\n",
       "      <th>3</th>\n",
       "      <td>2018-10-01 08:00:00</td>\n",
       "      <td>2018-11-01 08:00:00</td>\n",
       "      <td>03e23a6ace01fc14a86ab250ce65b682</td>\n",
       "      <td>PKOUT</td>\n",
       "      <td>{'locationUid': '03e23a6ace01fc14a86ab250ce65b...</td>\n",
       "    </tr>\n",
       "    <tr>\n",
       "      <th>4</th>\n",
       "      <td>2018-10-01 08:00:00</td>\n",
       "      <td>2018-11-01 08:00:00</td>\n",
       "      <td>03e23a6ace01fc14a86ab250ce65b682</td>\n",
       "      <td>PKOUT</td>\n",
       "      <td>{'locationUid': '03e23a6ace01fc14a86ab250ce65b...</td>\n",
       "    </tr>\n",
       "  </tbody>\n",
       "</table>\n",
       "</div>"
      ],
      "text/plain": [
       "           start_time            end_time                       locationUid  \\\n",
       "0 2018-10-01 08:00:00 2018-11-01 08:00:00  03e23a6ace01fc14a86ab250ce65b682   \n",
       "1 2018-10-01 08:00:00 2018-11-01 08:00:00  03e23a6ace01fc14a86ab250ce65b682   \n",
       "2 2018-10-01 08:00:00 2018-11-01 08:00:00  03e23a6ace01fc14a86ab250ce65b682   \n",
       "3 2018-10-01 08:00:00 2018-11-01 08:00:00  03e23a6ace01fc14a86ab250ce65b682   \n",
       "4 2018-10-01 08:00:00 2018-11-01 08:00:00  03e23a6ace01fc14a86ab250ce65b682   \n",
       "\n",
       "  event_type                                             events  \n",
       "0      PKOUT  {'locationUid': '03e23a6ace01fc14a86ab250ce65b...  \n",
       "1      PKOUT  {'locationUid': '03e23a6ace01fc14a86ab250ce65b...  \n",
       "2      PKOUT  {'locationUid': '03e23a6ace01fc14a86ab250ce65b...  \n",
       "3      PKOUT  {'locationUid': '03e23a6ace01fc14a86ab250ce65b...  \n",
       "4      PKOUT  {'locationUid': '03e23a6ace01fc14a86ab250ce65b...  "
      ]
     },
     "execution_count": 6,
     "metadata": {},
     "output_type": "execute_result"
    }
   ],
   "source": [
    "df = pd.read_json(fn, lines = False)\n",
    "df.head()"
   ]
  },
  {
   "cell_type": "code",
   "execution_count": 7,
   "metadata": {},
   "outputs": [
    {
     "data": {
      "text/plain": [
       "assetUid                                       67a04f20-3474-4dfc-b18e-468f3e1d45cc\n",
       "eventType                                                                     PKOUT\n",
       "locationUid                                        03e23a6ace01fc14a86ab250ce65b682\n",
       "properties.geoCoordinates         32.722820825525126:-117.16923453486577,32.7227...\n",
       "properties.imageAssetUid                       801be9fc-7bb7-40e7-b810-1d26ea617e89\n",
       "properties.objectUid                                                     1538385026\n",
       "properties.orgPixelCoordinates        177.0:62.0,177.0:103.0,255.0:103.0,255.0:62.0\n",
       "properties.pixelCoordinates             147.0:43.0,131.0:77.0,165.0:48.0,182.0:13.0\n",
       "timestamp                                                             1538413022637\n",
       "Name: 0, dtype: object"
      ]
     },
     "execution_count": 7,
     "metadata": {},
     "output_type": "execute_result"
    }
   ],
   "source": [
    "with open(fn) as f:\n",
    "    d =json_normalize(json.load(f)['events'])\n",
    "    \n",
    "d.iloc[0]"
   ]
  },
  {
   "cell_type": "code",
   "execution_count": null,
   "metadata": {},
   "outputs": [],
   "source": []
  },
  {
   "cell_type": "code",
   "execution_count": null,
   "metadata": {},
   "outputs": [],
   "source": []
  }
 ],
 "metadata": {
  "kernelspec": {
   "display_name": "Python 3",
   "language": "python",
   "name": "python3"
  },
  "language_info": {
   "codemirror_mode": {
    "name": "ipython",
    "version": 3
   },
   "file_extension": ".py",
   "mimetype": "text/x-python",
   "name": "python",
   "nbconvert_exporter": "python",
   "pygments_lexer": "ipython3",
   "version": "3.7.3"
  }
 },
 "nbformat": 4,
 "nbformat_minor": 2
}
