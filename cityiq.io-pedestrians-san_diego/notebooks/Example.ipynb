{
 "cells": [
  {
   "cell_type": "code",
   "execution_count": 1,
   "metadata": {},
   "outputs": [],
   "source": [
    "import seaborn as sns\n",
    "import metapack as mp\n",
    "import pandas as pd\n",
    "import geopandas as gpd\n",
    "import numpy as np\n",
    "import matplotlib.pyplot as plt\n",
    "from IPython.display import display \n",
    "\n",
    "%matplotlib inline\n",
    "sns.set_context('notebook')\n",
    "mp.jupyter.init()\n"
   ]
  },
  {
   "cell_type": "code",
   "execution_count": 2,
   "metadata": {},
   "outputs": [
    {
     "name": "stdout",
     "output_type": "stream",
     "text": [
      "CPU times: user 2min, sys: 9.97 s, total: 2min 10s\n",
      "Wall time: 1min 59s\n"
     ]
    }
   ],
   "source": [
    "%%time\n",
    "# ZIP Package\n",
    "pkg = mp.open_package('http://library.metatab.org/cityiq.io-pedestrians-san_diego-1.zip')\n",
    "\n",
    "resource = pkg.resource('pedestrians') # Get a resource\n",
    "ped = resource.dataframe() # Create a pandas Dataframe\n",
    "\n",
    "obj = mp.open_package('http://library.metatab.org/cityiq.io-objects-san_diego-5.csv') \n",
    "walkways = obj.resource('walkways').dataframe()\n",
    "\n",
    "ped = ped.merge(walkways[['locationuid','community_name','roadsegid']], on='locationuid', how='left')\n",
    "\n",
    "tod_intervals = {\n",
    "    pd.Interval(0, 6, closed='left'): 'night',\n",
    "    pd.Interval(6, 11, closed='left'): 'morning',\n",
    "    pd.Interval(11,13, closed='left'): 'lunch',\n",
    "    pd.Interval(13, 17, closed='left'): 'afternoon',\n",
    "    pd.Interval(17, 24, closed='left'): 'evening'\n",
    "}\n",
    "\n",
    "ped['tod']  = pd.cut(ped.timestamp.dt.hour, pd.IntervalIndex(list(tod_intervals.keys())))\n",
    "ped['dow'] = ped.timestamp.dt.dayofweek\n",
    "\n",
    "# There are a lot of really large values that I suspect are probably wrong, so let's clip at the 99% percentile\n",
    "ped['clipped_count'] = ped['count'].clip(0,ped['count'].quantile(.99))\n"
   ]
  },
  {
   "cell_type": "code",
   "execution_count": 3,
   "metadata": {},
   "outputs": [],
   "source": [
    "def augment(df):\n",
    "    df['is_workweek'] = df.dow.apply(lambda v: v < 5)\n",
    "    df['is_party_day'] = df.dow.apply(lambda v: (v==4 or v==5))\n",
    "    df['is_dark'] = df.tod.apply(lambda v: (v.left == 17 or v.left == 0))\n",
    "    df['is_evening'] = df.tod.apply(lambda v: v.left == 17 )\n",
    "    df['is_party_time'] = (df.is_evening & df.is_party_day)\n",
    "    df['is_work_time'] = (df.is_workweek & ~df.is_dark)\n",
    "    df['tod_span'] = df.tod.apply(lambda v: v.length).astype(int)\n",
    "    return df"
   ]
  },
  {
   "cell_type": "code",
   "execution_count": 4,
   "metadata": {},
   "outputs": [],
   "source": [
    "roads_pkg = mp.open_package('http://library.metatab.org/sangis.org-roads-sandiego-1.zip')\n",
    "roads_pkg\n",
    "roads = roads_pkg.resource('all_roads').dataframe()"
   ]
  },
  {
   "cell_type": "code",
   "execution_count": 14,
   "metadata": {},
   "outputs": [
    {
     "data": {
      "text/html": [
       "<div>\n",
       "<style scoped>\n",
       "    .dataframe tbody tr th:only-of-type {\n",
       "        vertical-align: middle;\n",
       "    }\n",
       "\n",
       "    .dataframe tbody tr th {\n",
       "        vertical-align: top;\n",
       "    }\n",
       "\n",
       "    .dataframe thead th {\n",
       "        text-align: right;\n",
       "    }\n",
       "</style>\n",
       "<table border=\"1\" class=\"dataframe\">\n",
       "  <thead>\n",
       "    <tr style=\"text-align: right;\">\n",
       "      <th></th>\n",
       "      <th>party_time_rate</th>\n",
       "      <th>work_time_rate</th>\n",
       "      <th>pw_ratio</th>\n",
       "      <th>geometry</th>\n",
       "    </tr>\n",
       "    <tr>\n",
       "      <th>roadsegid</th>\n",
       "      <th></th>\n",
       "      <th></th>\n",
       "      <th></th>\n",
       "      <th></th>\n",
       "    </tr>\n",
       "  </thead>\n",
       "  <tbody>\n",
       "    <tr>\n",
       "      <th>232.0</th>\n",
       "      <td>2268.000000</td>\n",
       "      <td>2303.000000</td>\n",
       "      <td>-0.007657</td>\n",
       "      <td>LINESTRING (-117.163852180505 32.7198913484443...</td>\n",
       "    </tr>\n",
       "    <tr>\n",
       "      <th>235.0</th>\n",
       "      <td>2261.000000</td>\n",
       "      <td>2261.000000</td>\n",
       "      <td>0.000000</td>\n",
       "      <td>LINESTRING (-117.1638103956177 32.713979602404...</td>\n",
       "    </tr>\n",
       "    <tr>\n",
       "      <th>236.0</th>\n",
       "      <td>1170.428571</td>\n",
       "      <td>1170.428571</td>\n",
       "      <td>0.000000</td>\n",
       "      <td>LINESTRING (-117.1638139829518 32.714639219362...</td>\n",
       "    </tr>\n",
       "    <tr>\n",
       "      <th>237.0</th>\n",
       "      <td>3680.571429</td>\n",
       "      <td>3433.714286</td>\n",
       "      <td>0.034699</td>\n",
       "      <td>LINESTRING (-117.1637680999948 32.711467773428...</td>\n",
       "    </tr>\n",
       "    <tr>\n",
       "      <th>239.0</th>\n",
       "      <td>3996.000000</td>\n",
       "      <td>3377.857143</td>\n",
       "      <td>0.083829</td>\n",
       "      <td>LINESTRING (-117.1637602392135 32.710400888587...</td>\n",
       "    </tr>\n",
       "  </tbody>\n",
       "</table>\n",
       "</div>"
      ],
      "text/plain": [
       "           party_time_rate  work_time_rate  pw_ratio  \\\n",
       "roadsegid                                              \n",
       "232.0          2268.000000     2303.000000 -0.007657   \n",
       "235.0          2261.000000     2261.000000  0.000000   \n",
       "236.0          1170.428571     1170.428571  0.000000   \n",
       "237.0          3680.571429     3433.714286  0.034699   \n",
       "239.0          3996.000000     3377.857143  0.083829   \n",
       "\n",
       "                                                    geometry  \n",
       "roadsegid                                                     \n",
       "232.0      LINESTRING (-117.163852180505 32.7198913484443...  \n",
       "235.0      LINESTRING (-117.1638103956177 32.713979602404...  \n",
       "236.0      LINESTRING (-117.1638139829518 32.714639219362...  \n",
       "237.0      LINESTRING (-117.1637680999948 32.711467773428...  \n",
       "239.0      LINESTRING (-117.1637602392135 32.710400888587...  "
      ]
     },
     "execution_count": 14,
     "metadata": {},
     "output_type": "execute_result"
    }
   ],
   "source": [
    "t = ped[['roadsegid','tod','dow', 'clipped_count']]\n",
    "t = t.groupby(['roadsegid','tod','dow'])[['clipped_count']].sum()\n",
    "t = augment(t.reset_index().copy())\n",
    "t.head()\n",
    "\n",
    "t2 = t.groupby(['roadsegid','is_party_time']).max()\n",
    "t2['rate'] = t2['clipped_count'] / t2.tod_span\n",
    "party_time = t2.loc[(slice(None), True),:].reset_index()[['roadsegid','rate']].rename(columns={'rate':'party_time_rate'}).set_index('roadsegid')\n",
    "\n",
    "t2 = t.groupby(['roadsegid','is_work_time']).max()\n",
    "t2['rate'] = t2['clipped_count'] / t2.tod_span\n",
    "work_time = t2.loc[(slice(None), True),:].reset_index()[['roadsegid','rate']].rename(columns={'rate':'work_time_rate'}).set_index('roadsegid')\n",
    "\n",
    "pw_time = party_time.join(work_time)\n",
    "\n",
    "pw_time['pw_ratio'] = (pw_time.party_time_rate - pw_time.work_time_rate) / (pw_time.party_time_rate + pw_time.work_time_rate)\n",
    "\n",
    "pw_time = pw_time.join(roads[['roadsegid','geometry']].set_index('roadsegid'))\n",
    "pw_time.to_csv('party_work_segments.csv')\n",
    "\n",
    "pw_time.head()"
   ]
  },
  {
   "cell_type": "code",
   "execution_count": 15,
   "metadata": {},
   "outputs": [
    {
     "data": {
      "text/plain": [
       "count     1341.000000\n",
       "mean      1029.831256\n",
       "std       1974.472004\n",
       "min          0.142857\n",
       "25%         82.285714\n",
       "50%        297.142857\n",
       "75%       1132.142857\n",
       "max      28244.714286\n",
       "Name: party_time_rate, dtype: float64"
      ]
     },
     "execution_count": 15,
     "metadata": {},
     "output_type": "execute_result"
    }
   ],
   "source": [
    "pw_time.party_time_rate.describe()"
   ]
  },
  {
   "cell_type": "code",
   "execution_count": 16,
   "metadata": {},
   "outputs": [
    {
     "data": {
      "text/plain": [
       "count     1346.000000\n",
       "mean      1024.234133\n",
       "std       1682.579363\n",
       "min          0.428571\n",
       "25%        115.464286\n",
       "50%        397.357143\n",
       "75%       1204.285714\n",
       "max      21830.857143\n",
       "Name: work_time_rate, dtype: float64"
      ]
     },
     "execution_count": 16,
     "metadata": {},
     "output_type": "execute_result"
    }
   ],
   "source": [
    "pw_time.work_time_rate.describe()"
   ]
  },
  {
   "cell_type": "code",
   "execution_count": 17,
   "metadata": {},
   "outputs": [
    {
     "data": {
      "text/plain": [
       "31502953"
      ]
     },
     "execution_count": 17,
     "metadata": {},
     "output_type": "execute_result"
    }
   ],
   "source": [
    "len(ped)"
   ]
  },
  {
   "cell_type": "code",
   "execution_count": 18,
   "metadata": {},
   "outputs": [
    {
     "data": {
      "text/plain": [
       "2691"
      ]
     },
     "execution_count": 18,
     "metadata": {},
     "output_type": "execute_result"
    }
   ],
   "source": [
    "ped.locationuid.nunique()"
   ]
  },
  {
   "cell_type": "code",
   "execution_count": null,
   "metadata": {},
   "outputs": [],
   "source": []
  }
 ],
 "metadata": {
  "kernelspec": {
   "display_name": "Python 3",
   "language": "python",
   "name": "python3"
  },
  "language_info": {
   "codemirror_mode": {
    "name": "ipython",
    "version": 3
   },
   "file_extension": ".py",
   "mimetype": "text/x-python",
   "name": "python",
   "nbconvert_exporter": "python",
   "pygments_lexer": "ipython3",
   "version": "3.6.9"
  }
 },
 "nbformat": 4,
 "nbformat_minor": 4
}
